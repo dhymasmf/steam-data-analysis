{
 "cells": [
  {
   "cell_type": "markdown",
   "metadata": {},
   "source": [
    "# Read Data & Handle Missing Values"
   ]
  },
  {
   "cell_type": "markdown",
   "metadata": {},
   "source": [
    "## Load Dataset"
   ]
  },
  {
   "cell_type": "code",
   "execution_count": 1,
   "metadata": {},
   "outputs": [
    {
     "data": {
      "text/html": [
       "<div>\n",
       "<style scoped>\n",
       "    .dataframe tbody tr th:only-of-type {\n",
       "        vertical-align: middle;\n",
       "    }\n",
       "\n",
       "    .dataframe tbody tr th {\n",
       "        vertical-align: top;\n",
       "    }\n",
       "\n",
       "    .dataframe thead th {\n",
       "        text-align: right;\n",
       "    }\n",
       "</style>\n",
       "<table border=\"1\" class=\"dataframe\">\n",
       "  <thead>\n",
       "    <tr style=\"text-align: right;\">\n",
       "      <th></th>\n",
       "      <th>appid</th>\n",
       "      <th>name</th>\n",
       "      <th>release_date</th>\n",
       "      <th>english</th>\n",
       "      <th>developer</th>\n",
       "      <th>publisher</th>\n",
       "      <th>platforms</th>\n",
       "      <th>required_age</th>\n",
       "      <th>categories</th>\n",
       "      <th>genres</th>\n",
       "      <th>steamspy_tags</th>\n",
       "      <th>achievements</th>\n",
       "      <th>positive_ratings</th>\n",
       "      <th>negative_ratings</th>\n",
       "      <th>average_playtime</th>\n",
       "      <th>median_playtime</th>\n",
       "      <th>owners</th>\n",
       "      <th>price</th>\n",
       "    </tr>\n",
       "  </thead>\n",
       "  <tbody>\n",
       "    <tr>\n",
       "      <th>0</th>\n",
       "      <td>10</td>\n",
       "      <td>Counter-Strike</td>\n",
       "      <td>2000-11-01</td>\n",
       "      <td>1</td>\n",
       "      <td>Valve</td>\n",
       "      <td>Valve</td>\n",
       "      <td>windows;mac;linux</td>\n",
       "      <td>0</td>\n",
       "      <td>Multi-player;Online Multi-Player;Local Multi-P...</td>\n",
       "      <td>Action</td>\n",
       "      <td>Action;FPS;Multiplayer</td>\n",
       "      <td>0</td>\n",
       "      <td>124534</td>\n",
       "      <td>3339</td>\n",
       "      <td>17612</td>\n",
       "      <td>317</td>\n",
       "      <td>10000000-20000000</td>\n",
       "      <td>7.19</td>\n",
       "    </tr>\n",
       "    <tr>\n",
       "      <th>1</th>\n",
       "      <td>20</td>\n",
       "      <td>Team Fortress Classic</td>\n",
       "      <td>1999-04-01</td>\n",
       "      <td>1</td>\n",
       "      <td>Valve</td>\n",
       "      <td>Valve</td>\n",
       "      <td>windows;mac;linux</td>\n",
       "      <td>0</td>\n",
       "      <td>Multi-player;Online Multi-Player;Local Multi-P...</td>\n",
       "      <td>Action</td>\n",
       "      <td>Action;FPS;Multiplayer</td>\n",
       "      <td>0</td>\n",
       "      <td>3318</td>\n",
       "      <td>633</td>\n",
       "      <td>277</td>\n",
       "      <td>62</td>\n",
       "      <td>5000000-10000000</td>\n",
       "      <td>3.99</td>\n",
       "    </tr>\n",
       "    <tr>\n",
       "      <th>2</th>\n",
       "      <td>30</td>\n",
       "      <td>Day of Defeat</td>\n",
       "      <td>2003-05-01</td>\n",
       "      <td>1</td>\n",
       "      <td>Valve</td>\n",
       "      <td>Valve</td>\n",
       "      <td>windows;mac;linux</td>\n",
       "      <td>0</td>\n",
       "      <td>Multi-player;Valve Anti-Cheat enabled</td>\n",
       "      <td>Action</td>\n",
       "      <td>FPS;World War II;Multiplayer</td>\n",
       "      <td>0</td>\n",
       "      <td>3416</td>\n",
       "      <td>398</td>\n",
       "      <td>187</td>\n",
       "      <td>34</td>\n",
       "      <td>5000000-10000000</td>\n",
       "      <td>3.99</td>\n",
       "    </tr>\n",
       "    <tr>\n",
       "      <th>3</th>\n",
       "      <td>40</td>\n",
       "      <td>Deathmatch Classic</td>\n",
       "      <td>2001-06-01</td>\n",
       "      <td>1</td>\n",
       "      <td>Valve</td>\n",
       "      <td>Valve</td>\n",
       "      <td>windows;mac;linux</td>\n",
       "      <td>0</td>\n",
       "      <td>Multi-player;Online Multi-Player;Local Multi-P...</td>\n",
       "      <td>Action</td>\n",
       "      <td>Action;FPS;Multiplayer</td>\n",
       "      <td>0</td>\n",
       "      <td>1273</td>\n",
       "      <td>267</td>\n",
       "      <td>258</td>\n",
       "      <td>184</td>\n",
       "      <td>5000000-10000000</td>\n",
       "      <td>3.99</td>\n",
       "    </tr>\n",
       "    <tr>\n",
       "      <th>4</th>\n",
       "      <td>50</td>\n",
       "      <td>Half-Life: Opposing Force</td>\n",
       "      <td>1999-11-01</td>\n",
       "      <td>1</td>\n",
       "      <td>Gearbox Software</td>\n",
       "      <td>Valve</td>\n",
       "      <td>windows;mac;linux</td>\n",
       "      <td>0</td>\n",
       "      <td>Single-player;Multi-player;Valve Anti-Cheat en...</td>\n",
       "      <td>Action</td>\n",
       "      <td>FPS;Action;Sci-fi</td>\n",
       "      <td>0</td>\n",
       "      <td>5250</td>\n",
       "      <td>288</td>\n",
       "      <td>624</td>\n",
       "      <td>415</td>\n",
       "      <td>5000000-10000000</td>\n",
       "      <td>3.99</td>\n",
       "    </tr>\n",
       "  </tbody>\n",
       "</table>\n",
       "</div>"
      ],
      "text/plain": [
       "   appid                       name release_date  english         developer  \\\n",
       "0     10             Counter-Strike   2000-11-01        1             Valve   \n",
       "1     20      Team Fortress Classic   1999-04-01        1             Valve   \n",
       "2     30              Day of Defeat   2003-05-01        1             Valve   \n",
       "3     40         Deathmatch Classic   2001-06-01        1             Valve   \n",
       "4     50  Half-Life: Opposing Force   1999-11-01        1  Gearbox Software   \n",
       "\n",
       "  publisher          platforms  required_age  \\\n",
       "0     Valve  windows;mac;linux             0   \n",
       "1     Valve  windows;mac;linux             0   \n",
       "2     Valve  windows;mac;linux             0   \n",
       "3     Valve  windows;mac;linux             0   \n",
       "4     Valve  windows;mac;linux             0   \n",
       "\n",
       "                                          categories  genres  \\\n",
       "0  Multi-player;Online Multi-Player;Local Multi-P...  Action   \n",
       "1  Multi-player;Online Multi-Player;Local Multi-P...  Action   \n",
       "2              Multi-player;Valve Anti-Cheat enabled  Action   \n",
       "3  Multi-player;Online Multi-Player;Local Multi-P...  Action   \n",
       "4  Single-player;Multi-player;Valve Anti-Cheat en...  Action   \n",
       "\n",
       "                  steamspy_tags  achievements  positive_ratings  \\\n",
       "0        Action;FPS;Multiplayer             0            124534   \n",
       "1        Action;FPS;Multiplayer             0              3318   \n",
       "2  FPS;World War II;Multiplayer             0              3416   \n",
       "3        Action;FPS;Multiplayer             0              1273   \n",
       "4             FPS;Action;Sci-fi             0              5250   \n",
       "\n",
       "   negative_ratings  average_playtime  median_playtime             owners  \\\n",
       "0              3339             17612              317  10000000-20000000   \n",
       "1               633               277               62   5000000-10000000   \n",
       "2               398               187               34   5000000-10000000   \n",
       "3               267               258              184   5000000-10000000   \n",
       "4               288               624              415   5000000-10000000   \n",
       "\n",
       "   price  \n",
       "0   7.19  \n",
       "1   3.99  \n",
       "2   3.99  \n",
       "3   3.99  \n",
       "4   3.99  "
      ]
     },
     "execution_count": 1,
     "metadata": {},
     "output_type": "execute_result"
    }
   ],
   "source": [
    "import pandas as pd\n",
    "\n",
    "# Load all datasets\n",
    "steam = pd.read_csv(\"dataset/steam.csv\")\n",
    "steam_desc = pd.read_csv(\"dataset/steam_description_data.csv\")\n",
    "steam_media = pd.read_csv(\"dataset/steam_media_data.csv\")\n",
    "steam_req = pd.read_csv(\"dataset/steam_requirements_data.csv\")\n",
    "steam_support = pd.read_csv(\"dataset/steam_support_info.csv\")\n",
    "steam_tags = pd.read_csv(\"dataset/steamspy_tag_data.csv\")\n",
    "\n",
    "# Display the first few rows of the main dataset\n",
    "steam.head()"
   ]
  },
  {
   "cell_type": "markdown",
   "metadata": {},
   "source": [
    "## Check Missing Values"
   ]
  },
  {
   "cell_type": "code",
   "execution_count": 2,
   "metadata": {},
   "outputs": [
    {
     "data": {
      "text/plain": [
       "appid                0\n",
       "name                 0\n",
       "release_date         0\n",
       "english              0\n",
       "developer            1\n",
       "publisher           14\n",
       "platforms            0\n",
       "required_age         0\n",
       "categories           0\n",
       "genres               0\n",
       "steamspy_tags        0\n",
       "achievements         0\n",
       "positive_ratings     0\n",
       "negative_ratings     0\n",
       "average_playtime     0\n",
       "median_playtime      0\n",
       "owners               0\n",
       "price                0\n",
       "dtype: int64"
      ]
     },
     "execution_count": 2,
     "metadata": {},
     "output_type": "execute_result"
    }
   ],
   "source": [
    "# Check missing values in the main dataset\n",
    "steam.isnull().sum()"
   ]
  },
  {
   "cell_type": "markdown",
   "metadata": {},
   "source": [
    "## Handle Missing Values"
   ]
  },
  {
   "cell_type": "code",
   "execution_count": 3,
   "metadata": {},
   "outputs": [
    {
     "data": {
      "text/plain": [
       "appid               0\n",
       "name                0\n",
       "release_date        0\n",
       "english             0\n",
       "developer           0\n",
       "publisher           0\n",
       "platforms           0\n",
       "required_age        0\n",
       "categories          0\n",
       "genres              0\n",
       "steamspy_tags       0\n",
       "achievements        0\n",
       "positive_ratings    0\n",
       "negative_ratings    0\n",
       "average_playtime    0\n",
       "median_playtime     0\n",
       "owners              0\n",
       "price               0\n",
       "dtype: int64"
      ]
     },
     "execution_count": 3,
     "metadata": {},
     "output_type": "execute_result"
    }
   ],
   "source": [
    "# Fill missing values in categorical columns with \"Unknown\"\n",
    "steam = steam.copy()\n",
    "steam.fillna({\"developer\": \"Unknown\", \"publisher\": \"Unknown\"}, inplace=True)\n",
    "\n",
    "# Drop rows with missing values in important numerical columns\n",
    "steam.dropna(inplace=True)\n",
    "\n",
    "# Verify if there are any missing values left\n",
    "steam.isnull().sum()"
   ]
  },
  {
   "cell_type": "markdown",
   "metadata": {},
   "source": [
    "# Exploratory Data Analysis (EDA)"
   ]
  },
  {
   "cell_type": "markdown",
   "metadata": {},
   "source": [
    "## Game Price Distribution"
   ]
  },
  {
   "cell_type": "code",
   "execution_count": 4,
   "metadata": {},
   "outputs": [
    {
     "data": {
      "image/png": "[encoded data removed]",
      "text/plain": [
       "<Figure size 1000x500 with 1 Axes>"
      ]
     },
     "metadata": {},
     "output_type": "display_data"
    }
   ],
   "source": [
    "import matplotlib.pyplot as plt\n",
    "import seaborn as sns\n",
    "\n",
    "plt.figure(figsize=(10,5))\n",
    "sns.histplot(steam[\"price\"], bins=50, kde=True, color=\"skyblue\")\n",
    "plt.xlabel(\"Game Price (USD)\")\n",
    "plt.ylabel(\"Number of Games\")\n",
    "plt.title(\"Price Distribution of Steam Games\")\n",
    "plt.show()"
   ]
  },
  {
   "cell_type": "markdown",
   "metadata": {},
   "source": [
    "### **Explanation**\n",
    "* The histogram displays the **distribution of game prices on Steam**.\n",
    "* Most of the games are either **free or priced under $10**. This is shown by the **tall bars on the left side** of the graph.\n",
    "* A **long tail** is visible towards the right, indicating that **a few games are significantly more expensive** (e.g., above $50 or even $100).\n",
    "* The **KDE (Kernel Density Estimation) curve** helps us see the overall trend more smoothly.\n",
    "\n",
    "Insights\n",
    "* **Are most games free?** If the leftmost bar is the tallest, then yes, many games are free-to-play.\n",
    "* **How are prices distributed?** If most bars are concentrated under $10, it means most games are affordable.\n",
    "* **Are there expensive games?** If we see small bars far on the right, it suggests that only a few games are priced high.\n",
    "\n",
    "Conclusion:\n",
    "\n",
    "The gaming industry on Steam is dominated by **affordable or free games**, making it accessible to a wide audience. However, there are **premium-priced games**, which might be AAA titles or special editions.\n"
   ]
  },
  {
   "cell_type": "markdown",
   "metadata": {},
   "source": [
    "## Most Popular Game Genres"
   ]
  },
  {
   "cell_type": "code",
   "execution_count": 5,
   "metadata": {},
   "outputs": [
    {
     "data": {
      "image/png": "[encoded data removed]",
      "text/plain": [
       "<Figure size 1200x600 with 1 Axes>"
      ]
     },
     "metadata": {},
     "output_type": "display_data"
    }
   ],
   "source": [
    "from collections import Counter\n",
    "\n",
    "# Extract and count genres\n",
    "all_genres = \",\".join(steam[\"genres\"].dropna()).split(\",\")\n",
    "genre_counts = Counter(all_genres)\n",
    "\n",
    "# Convert to DataFrame for visualization\n",
    "genre_df = pd.DataFrame(genre_counts.items(), columns=[\"Genre\", \"Count\"]).sort_values(by=\"Count\", ascending=False)\n",
    "\n",
    "# Plot top 10 genres\n",
    "plt.figure(figsize=(12,6))\n",
    "sns.barplot(data=genre_df.head(10), x=\"Count\", y=\"Genre\", hue=\"Genre\", palette=\"coolwarm\")\n",
    "plt.xlabel(\"Number of Games\")\n",
    "plt.ylabel(\"Genre\")\n",
    "plt.title(\"Top 10 Most Common Game Genres on Steam\")\n",
    "plt.show()"
   ]
  },
  {
   "cell_type": "markdown",
   "metadata": {},
   "source": [
    "### **Explanation**\n",
    "* The bar chart shows the **most common game genres** based on the number of games in each genre.\n",
    "* Genres with **higher bars** indicate that they are more frequently found on Steam.\n",
    "* If a **word cloud is used**, the most popular genres will appear **larger and bolder**, while less common genres will be smaller.\n",
    "\n",
    "Insight\n",
    "* **Which genres dominate Steam?** If genres like Action, Indie, and Adventure have the highest bars, it means these genres have the most games available.\n",
    "* **Are niche genres common?** If genres like Simulation or Strategy have shorter bars, it suggests they are available but not as dominant.\n",
    "* **Does Steam have a balanced genre distribution?** If some genres have extremely high counts, it means the platform is heavily focused on certain game types.\n",
    "\n",
    "Conclusion:\n",
    "\n",
    "The Steam game market is **heavily dominated by certain genres**, like Action and Indie games. This suggests that most developers **focus on fast-paced or creative, low-budget games**, rather than niche genres."
   ]
  },
  {
   "cell_type": "markdown",
   "metadata": {},
   "source": [
    "## Distribution of Positive and Negative Ratings"
   ]
  },
  {
   "cell_type": "code",
   "execution_count": 6,
   "metadata": {},
   "outputs": [
    {
     "data": {
      "image/png": "[encoded data removed]",
      "text/plain": [
       "<Figure size 1000x500 with 1 Axes>"
      ]
     },
     "metadata": {},
     "output_type": "display_data"
    }
   ],
   "source": [
    "plt.figure(figsize=(10,5))\n",
    "sns.histplot(steam[\"positive_ratings\"], bins=50, kde=True, color=\"green\", label=\"Positive Ratings\")\n",
    "sns.histplot(steam[\"negative_ratings\"], bins=50, kde=True, color=\"red\", label=\"Negative Ratings\")\n",
    "plt.xlabel(\"Number of Ratings\")\n",
    "plt.ylabel(\"Number of Games\")\n",
    "plt.title(\"Distribution of Positive and Negative Ratings\")\n",
    "plt.legend()\n",
    "plt.show()"
   ]
  },
  {
   "cell_type": "markdown",
   "metadata": {},
   "source": [
    "### **Explanation**\n",
    "* Two **histograms** show the distribution of **positive and negative ratings** received by games on Steam.\n",
    "* The **x-axis** represents the **number of ratings**, while the **y-axis** represents the **count of games** within that rating range.\n",
    "* The **KDE curve** (if used) gives a smoother view of the distribution pattern.\n",
    "\n",
    "Insights\n",
    "* **Do most games receive high positive ratings?** If the histogram for positive ratings is **skewed to the right**, it means **many games receive thousands of positive reviews**.\n",
    "* **Are negative ratings common?** If the negative rating histogram has a **peak near zero**, it suggests **most games receive very few negative reviews**.\n",
    "* **Do some games get extreme ratings?** If there are **long tails** in either distribution, it means **some games receive an exceptionally high number of reviews, either positive or negative**.\n",
    "\n",
    "Conclusion:\n",
    "\n",
    "Steam games generally receive **more positive ratings than negative ones**, indicating that **most players are satisfied** with their gaming experience. However, a few games might receive **overwhelmingly negative reviews**, possibly due to **poor quality, bugs, or bad monetization strategies**."
   ]
  },
  {
   "cell_type": "markdown",
   "metadata": {},
   "source": [
    "## Relationship Between Achievements and Playtime"
   ]
  },
  {
   "cell_type": "code",
   "execution_count": 7,
   "metadata": {},
   "outputs": [
    {
     "data": {
      "image/png": "[encoded data removed]",
      "text/plain": [
       "<Figure size 1000x500 with 1 Axes>"
      ]
     },
     "metadata": {},
     "output_type": "display_data"
    }
   ],
   "source": [
    "plt.figure(figsize=(10,5))\n",
    "sns.scatterplot(data=steam, x=\"achievements\", y=\"average_playtime\", alpha=0.5, color=\"purple\")\n",
    "plt.xlabel(\"Number of Achievements\")\n",
    "plt.ylabel(\"Average Playtime (minutes)\")\n",
    "plt.title(\"Relationship Between Achievements and Playtime\")\n",
    "plt.show()"
   ]
  },
  {
   "cell_type": "markdown",
   "metadata": {},
   "source": [
    "### **Explanation**\n",
    "* **A scatter plot** visualizes the relationship between **the number of achievements** and **average playtime** (in minutes or hours).\n",
    "* Each dot represents a game, where:\n",
    "The **x-axis** = Number of achievements\n",
    "The **y-axis** = Average playtime\n",
    "\n",
    "Insights\n",
    "1. **Do games with more achievements have higher playtime?**\n",
    "* If the points form an **upward trend**, it suggests that games with more achievements tend to keep players engaged for a longer time.\n",
    "* If there is **no clear pattern**, achievements might not strongly influence playtime.\n",
    "\n",
    "2. Are there games with high playtime but few achievements?\n",
    "* If there are **dots high on the y-axis but close to the left**, it means some games have **long playtime but very few achievements** (e.g., open-world or sandbox games).\n",
    "\n",
    "3. Are there games with many achievements but low playtime?\n",
    "* If some points are **far to the right but low on the y-axis**, it suggests that some games offer **many achievements, but players don’t spend much time on them** (e.g., casual or short games with easy achievements).\n",
    "\n",
    "Conclusion\n",
    "\n",
    "There is **likely a positive correlation** between achievements and playtime, but it may not be strong. While some players are motivated by achievements, **other factors** like game genre, mechanics, and replayability **also impact playtime**."
   ]
  },
  {
   "cell_type": "markdown",
   "metadata": {},
   "source": [
    "# Statistical Analysis Plan"
   ]
  },
  {
   "cell_type": "markdown",
   "metadata": {},
   "source": [
    "## Hypothesis Testing (A/B Testing) – Do Paid Games Get Higher Ratings?"
   ]
  },
  {
   "cell_type": "code",
   "execution_count": 8,
   "metadata": {},
   "outputs": [
    {
     "name": "stdout",
     "output_type": "stream",
     "text": [
      "t-statistic: 2.0303\n",
      "p-value: 0.0424\n",
      "Reject H₀: Paid games receive significantly higher ratings than free games.\n"
     ]
    }
   ],
   "source": [
    "from scipy.stats import ttest_ind\n",
    "\n",
    "# Separate free and paid games\n",
    "free_games = steam[steam[\"price\"] == 0][\"positive_ratings\"]\n",
    "paid_games = steam[steam[\"price\"] > 0][\"positive_ratings\"]\n",
    "\n",
    "# Perform Independent T-Test (Welch’s t-test)\n",
    "t_stat, p_value = ttest_ind(free_games, paid_games, equal_var=False)\n",
    "\n",
    "# Print Results\n",
    "print(f\"t-statistic: {t_stat:.4f}\")\n",
    "print(f\"p-value: {p_value:.4f}\")\n",
    "\n",
    "# Interpretation\n",
    "alpha = 0.05  # Significance level\n",
    "if p_value < alpha:\n",
    "    print(\"Reject H₀: Paid games receive significantly higher ratings than free games.\")\n",
    "else:\n",
    "    print(\"Fail to reject H₀: No significant difference in ratings between free and paid games.\")"
   ]
  },
  {
   "cell_type": "markdown",
   "metadata": {},
   "source": [
    "### **Explanation**  \n",
    "\n",
    "- **t-statistic:** Measures how large the difference between two groups is compared to the variation in the data.  \n",
    "- **p-value:**  \n",
    "  1. **If p < 0.05**, we reject H₀ → Paid games **significantly** have higher ratings.  \n",
    "  2. **If p > 0.05**, we fail to reject H₀ → **No significant difference** between free and paid game ratings.  "
   ]
  },
  {
   "cell_type": "markdown",
   "metadata": {},
   "source": [
    "## Correlation Analysis – Does Playtime Affect Positive Ratings?"
   ]
  },
  {
   "cell_type": "code",
   "execution_count": 9,
   "metadata": {},
   "outputs": [
    {
     "name": "stdout",
     "output_type": "stream",
     "text": [
      "Pearson Correlation Coefficient: 0.1579\n",
      "P-value: 0.0000\n",
      "Significant correlation found between playtime and positive ratings.\n",
      "Positive correlation: Games with longer playtime tend to get higher ratings.\n"
     ]
    }
   ],
   "source": [
    "import scipy.stats as stats\n",
    "\n",
    "# Select relevant columns\n",
    "playtime = steam[\"average_playtime\"]\n",
    "positive_ratings = steam[\"positive_ratings\"]\n",
    "\n",
    "# Compute Pearson correlation\n",
    "corr, p_value = stats.pearsonr(playtime, positive_ratings)\n",
    "\n",
    "# Print results\n",
    "print(f\"Pearson Correlation Coefficient: {corr:.4f}\")\n",
    "print(f\"P-value: {p_value:.4f}\")\n",
    "\n",
    "# Interpretation\n",
    "alpha = 0.05  # Significance level\n",
    "if p_value < alpha:\n",
    "    print(\"Significant correlation found between playtime and positive ratings.\")\n",
    "    if corr > 0:\n",
    "        print(\"Positive correlation: Games with longer playtime tend to get higher ratings.\")\n",
    "    else:\n",
    "        print(\"Negative correlation: Games with longer playtime tend to get lower ratings.\")\n",
    "else:\n",
    "    print(\"No significant correlation between playtime and positive ratings.\")\n"
   ]
  },
  {
   "cell_type": "markdown",
   "metadata": {},
   "source": [
    "### **Explanation**  \n",
    "\n",
    "- **Pearson Correlation Coefficient (r):**  \n",
    "  1. **r > 0:** Positive correlation → The longer the playtime, the higher the rating.  \n",
    "  2. **r < 0:** Negative correlation → The longer the playtime, the lower the rating.  \n",
    "  3. **r ≈ 0:** No significant relationship between playtime and rating.  \n",
    "\n",
    "- **P-value:**  \n",
    "  1. **If p < 0.05**, the correlation is statistically significant.  \n",
    "  2. **If p > 0.05**, the correlation is not significant (could be due to chance)."
   ]
  },
  {
   "cell_type": "markdown",
   "metadata": {},
   "source": [
    "## Regression Analysis – What Factors Affect Positive Ratings?"
   ]
  },
  {
   "cell_type": "code",
   "execution_count": 10,
   "metadata": {},
   "outputs": [
    {
     "name": "stdout",
     "output_type": "stream",
     "text": [
      "                            OLS Regression Results                            \n",
      "==============================================================================\n",
      "Dep. Variable:       positive_ratings   R-squared:                       0.026\n",
      "Model:                            OLS   Adj. R-squared:                  0.026\n",
      "Method:                 Least Squares   F-statistic:                     238.5\n",
      "Date:                Sun, 09 Mar 2025   Prob (F-statistic):          9.01e-153\n",
      "Time:                        07:03:01   Log-Likelihood:            -3.0480e+05\n",
      "No. Observations:               27075   AIC:                         6.096e+05\n",
      "Df Residuals:                   27071   BIC:                         6.096e+05\n",
      "Df Model:                           3                                         \n",
      "Covariance Type:            nonrobust                                         \n",
      "====================================================================================\n",
      "                       coef    std err          t      P>|t|      [0.025      0.975]\n",
      "------------------------------------------------------------------------------------\n",
      "const              330.2733    144.790      2.281      0.023      46.477     614.070\n",
      "price               68.5739     14.484      4.735      0.000      40.185      96.962\n",
      "average_playtime     1.6259      0.062     26.043      0.000       1.504       1.748\n",
      "achievements         0.2190      0.323      0.678      0.498      -0.414       0.852\n",
      "==============================================================================\n",
      "Omnibus:                   109281.434   Durbin-Watson:                   1.915\n",
      "Prob(Omnibus):                  0.000   Jarque-Bera (JB):     221979572339.424\n",
      "Skew:                         105.060   Prob(JB):                         0.00\n",
      "Kurtosis:                   14028.849   Cond. No.                     2.33e+03\n",
      "==============================================================================\n",
      "\n",
      "Notes:\n",
      "[1] Standard Errors assume that the covariance matrix of the errors is correctly specified.\n",
      "[2] The condition number is large, 2.33e+03. This might indicate that there are\n",
      "strong multicollinearity or other numerical problems.\n"
     ]
    }
   ],
   "source": [
    "import statsmodels.api as sm\n",
    "\n",
    "# Select independent variables (predictors)\n",
    "X = steam[[\"price\", \"average_playtime\", \"achievements\"]]  # You can add more features\n",
    "y = steam[\"positive_ratings\"]\n",
    "\n",
    "# Add constant (intercept)\n",
    "X = sm.add_constant(X)\n",
    "\n",
    "# Perform Linear Regression\n",
    "model = sm.OLS(y, X).fit()\n",
    "\n",
    "# Print summary\n",
    "print(model.summary())"
   ]
  },
  {
   "cell_type": "markdown",
   "metadata": {},
   "source": [
    "### **Explanation**  \n",
    "\n",
    "- **R-squared:** Measures how well the model explains the variation in positive ratings (the higher, the better the model).  \n",
    "- **P-values:** If **p < 0.05**, the variable significantly influences positive ratings.  \n",
    "- **Coef (Coefficient):**  \n",
    "  1. **Positive value:** The variable **increases** positive ratings.  \n",
    "  2. **Negative value:** The variable **decreases** positive ratings.  \n",
    "\n",
    "### **What Can We Analyze?**  \n",
    "- If **price has a negative coefficient**, expensive games tend to receive fewer positive ratings.  \n",
    "- If **playtime has a positive coefficient**, the longer people play a game, the higher ratings they give.  \n",
    "- If **the number of achievements has a positive coefficient**, games with many achievements are more engaging for players."
   ]
  },
  {
   "cell_type": "markdown",
   "metadata": {},
   "source": [
    "## ANOVA Test – Do Game Genres Affect Positive Ratings?"
   ]
  },
  {
   "cell_type": "code",
   "execution_count": 11,
   "metadata": {},
   "outputs": [
    {
     "name": "stdout",
     "output_type": "stream",
     "text": [
      "F-statistic: 1.0527\n",
      "P-value: 0.0793\n",
      "No significant effect of genre on positive ratings.\n"
     ]
    }
   ],
   "source": [
    "import scipy.stats as stats\n",
    "\n",
    "# Split data by genre (using only the first listed genre for simplicity)\n",
    "steam[\"main_genre\"] = steam[\"genres\"].apply(lambda x: x.split(\",\")[0])  # Take the first genre\n",
    "\n",
    "# Create groups based on genre\n",
    "genre_groups = [group[\"positive_ratings\"].values for _, group in steam.groupby(\"main_genre\")]\n",
    "\n",
    "# Perform ANOVA test\n",
    "f_stat, p_value = stats.f_oneway(*genre_groups)\n",
    "\n",
    "# Print results\n",
    "print(f\"F-statistic: {f_stat:.4f}\")\n",
    "print(f\"P-value: {p_value:.4f}\")\n",
    "\n",
    "# Interpretation\n",
    "alpha = 0.05  # Significance level\n",
    "if p_value < alpha:\n",
    "    print(\"The effect of genre on positive ratings is statistically significant.\")\n",
    "else:\n",
    "    print(\"No significant effect of genre on positive ratings.\")"
   ]
  },
  {
   "cell_type": "markdown",
   "metadata": {},
   "source": [
    "### **Explanation**  \n",
    "\n",
    "- **F-statistic:** Measures how much the average ratings differ across different game genres.  \n",
    "- **P-value:**  \n",
    "  1. If **p < 0.05**, there is a **significant** difference in ratings based on genre.  \n",
    "  2. If **p > 0.05**, genre does **not** have a significant impact on positive ratings.  \n",
    "\n",
    "### **What Can We Conclude?**  \n",
    "- If the result is **significant**, certain genres may be more popular and preferred over others.  \n",
    "- If the result is **not significant**, positive ratings are likely influenced by other factors such as **price** or **playtime** instead of genre."
   ]
  },
  {
   "cell_type": "markdown",
   "metadata": {},
   "source": [
    "## Chi-Square Test – Is There a Relationship Between Game Categories and Owners?"
   ]
  },
  {
   "cell_type": "code",
   "execution_count": 12,
   "metadata": {},
   "outputs": [
    {
     "name": "stdout",
     "output_type": "stream",
     "text": [
      "Chi-Square Statistic: 669.6928\n",
      "P-value: 0.0000\n",
      "There is a significant relationship between game category and number of owners.\n"
     ]
    }
   ],
   "source": [
    "import numpy as np\n",
    "import scipy.stats as stats\n",
    "\n",
    "# Convert owners range into a numeric value (take the average)\n",
    "def convert_owners_range(value):\n",
    "    if '-' in value:\n",
    "        low, high = map(int, value.split('-'))\n",
    "        return (low + high) // 2  # Take the average of the range\n",
    "    return int(value)\n",
    "\n",
    "steam[\"owners_numeric\"] = steam[\"owners\"].apply(convert_owners_range)\n",
    "\n",
    "# Convert owners into categorical bins\n",
    "steam[\"owners_category\"] = pd.cut(\n",
    "    steam[\"owners_numeric\"], \n",
    "    bins=[0, 50000, 200000, 500000, 1000000, 10000000, 100000000], \n",
    "    labels=[\"<50K\", \"50K-200K\", \"200K-500K\", \"500K-1M\", \"1M-10M\", \">10M\"]\n",
    ")\n",
    "\n",
    "# Extract main category from 'categories' column\n",
    "steam[\"main_category\"] = steam[\"categories\"].apply(lambda x: x.split(\";\")[0])  # Take the first category\n",
    "\n",
    "# Create contingency table\n",
    "contingency_table = pd.crosstab(steam[\"main_category\"], steam[\"owners_category\"])\n",
    "\n",
    "# Perform Chi-Square test\n",
    "chi2_stat, p_value, dof, expected = stats.chi2_contingency(contingency_table)\n",
    "\n",
    "# Print results\n",
    "print(f\"Chi-Square Statistic: {chi2_stat:.4f}\")\n",
    "print(f\"P-value: {p_value:.4f}\")\n",
    "\n",
    "# Interpretation\n",
    "alpha = 0.05\n",
    "if p_value < alpha:\n",
    "    print(\"There is a significant relationship between game category and number of owners.\")\n",
    "else:\n",
    "    print(\"No significant relationship between game category and number of owners.\")"
   ]
  },
  {
   "cell_type": "markdown",
   "metadata": {},
   "source": [
    "### **Explanation**  \n",
    "\n",
    "- **Chi-Square Statistic (χ²):** Measures the difference between the actual data and the expected values.  \n",
    "- **P-value:**  \n",
    "  1. If **p < 0.05**, there is a **significant** relationship between game categories and the number of owners.  \n",
    "  2. If **p > 0.05**, game categories **do not significantly** affect the number of owners.  \n",
    "\n",
    "### **What Can We Conclude?**  \n",
    "- If the result is **significant**, certain game categories are more popular and attract more players.  \n",
    "- If the result is **not significant**, the number of players is likely influenced by other factors such as **price** or **genre** rather than game category."
   ]
  },
  {
   "cell_type": "markdown",
   "metadata": {},
   "source": [
    "# Conclusions & Insights"
   ]
  },
  {
   "cell_type": "markdown",
   "metadata": {},
   "source": [
    "## 1. Game Prices Are Mostly Low"
   ]
  },
  {
   "cell_type": "markdown",
   "metadata": {},
   "source": [
    "### **Insight:**  \n",
    "The majority of games on Steam are priced below **$20**, with a significant number of **free games** available. However, there are also **premium** games with high prices, likely from major developers.  \n",
    "\n",
    "### **Implications:**  \n",
    "- The **freemium model** with **microtransactions** might be **more profitable** than setting a high game price.  \n",
    "- **Indie developers** can compete by offering **affordable or free** games with alternative monetization strategies."
   ]
  },
  {
   "cell_type": "markdown",
   "metadata": {},
   "source": [
    "## 2. Action & Indie Games Dominate the Market"
   ]
  },
  {
   "cell_type": "markdown",
   "metadata": {},
   "source": [
    "### **Insight:**  \n",
    "**Action** and **Indie** genres are the most popular on Steam, with the highest number of games compared to other genres.  \n",
    "\n",
    "### **Implications:**  \n",
    "- The **indie game market** is continuously growing, providing **opportunities** for small developers to succeed.  \n",
    "- **Major publishers** may need to **innovate further** to stay competitive against the increasing quality of indie games."
   ]
  },
  {
   "cell_type": "markdown",
   "metadata": {},
   "source": [
    "## 3. Positive Ratings Correlate With Playtime"
   ]
  },
  {
   "cell_type": "markdown",
   "metadata": {},
   "source": [
    "### **Insight:**  \n",
    "Games with **higher positive ratings** tend to have **longer average playtime**, indicating that players enjoy these games more.  \n",
    "\n",
    "### **Implications:**  \n",
    "- Developers should focus on creating an **engaging gameplay experience** to improve **player retention**.  \n",
    "- Successful games often include **replayability features**, such as **multiplayer modes** or **additional DLCs**, to keep players invested."
   ]
  },
  {
   "cell_type": "markdown",
   "metadata": {},
   "source": [
    "## 4. More Achievements = Longer Playtime?"
   ]
  },
  {
   "cell_type": "markdown",
   "metadata": {},
   "source": [
    "### **Insight:** \n",
    "Games with more **achievements** tend to have a **longer average playtime**.  \n",
    "\n",
    "### **Implications:**  \n",
    "* **Gamification** (achievements, leaderboards, collectibles) can **increase player engagement**.  \n",
    "* Developers can use **achievements as a retention tool** to keep players engaged for the long term.  "
   ]
  },
  {
   "cell_type": "markdown",
   "metadata": {},
   "source": [
    "## 5. Chi-Square Test: Game Categories & Owners"
   ]
  },
  {
   "cell_type": "markdown",
   "metadata": {},
   "source": [
    "### **Result:**  \n",
    "There is a **significant relationship** between **game categories** and **the number of owners** (**p-value < 0.05**).  \n",
    "\n",
    "### **Implications:**  \n",
    "- Certain **genres attract more players**, leading to **higher sales and player engagement**.  \n",
    "- Publishers can use these insights to **identify the most profitable genres** in the market and optimize their game offerings accordingly."
   ]
  },
  {
   "cell_type": "markdown",
   "metadata": {},
   "source": [
    "# Overall Takeaways"
   ]
  },
  {
   "cell_type": "markdown",
   "metadata": {},
   "source": [
    "* Affordable and Free-to-Play games dominate the market.\n",
    "* Action & Indie genres are the most developed and played.\n",
    "* Highly-rated games tend to have longer playtime.\n",
    "* Achievements can be a strategy to increase player engagement.\n",
    "* Certain genres tend to attract more owners than others."
   ]
  }
 ],
 "metadata": {
  "kernelspec": {
   "display_name": "base",
   "language": "python",
   "name": "python3"
  },
  "language_info": {
   "codemirror_mode": {
    "name": "ipython",
    "version": 3
   },
   "file_extension": ".py",
   "mimetype": "text/x-python",
   "name": "python",
   "nbconvert_exporter": "python",
   "pygments_lexer": "ipython3",
   "version": "3.12.7"
  }
 },
 "nbformat": 4,
 "nbformat_minor": 2
}
